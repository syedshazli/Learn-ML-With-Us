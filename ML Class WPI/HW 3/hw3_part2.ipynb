{
 "cells": [
  {
   "cell_type": "markdown",
   "metadata": {
    "id": "9XHd5ExbUIUg"
   },
   "source": [
    "# Pytorch with the MNIST Dataset - MINST"
   ]
  },
  {
   "cell_type": "code",
   "execution_count": 1,
   "metadata": {
    "id": "Su0COdCqT2Wk"
   },
   "outputs": [
    {
     "ename": "ModuleNotFoundError",
     "evalue": "No module named 'torch'",
     "output_type": "error",
     "traceback": [
      "\u001b[1;31m---------------------------------------------------------------------------\u001b[0m",
      "\u001b[1;31mModuleNotFoundError\u001b[0m                       Traceback (most recent call last)",
      "Cell \u001b[1;32mIn[1], line 4\u001b[0m\n\u001b[0;32m      2\u001b[0m \u001b[38;5;28;01mfrom\u001b[39;00m \u001b[38;5;21;01m__future__\u001b[39;00m \u001b[38;5;28;01mimport\u001b[39;00m print_function\n\u001b[0;32m      3\u001b[0m \u001b[38;5;28;01mimport\u001b[39;00m \u001b[38;5;21;01margparse\u001b[39;00m\n\u001b[1;32m----> 4\u001b[0m \u001b[38;5;28;01mimport\u001b[39;00m \u001b[38;5;21;01mtorch\u001b[39;00m\n\u001b[0;32m      5\u001b[0m \u001b[38;5;28;01mimport\u001b[39;00m \u001b[38;5;21;01mtorch\u001b[39;00m\u001b[38;5;21;01m.\u001b[39;00m\u001b[38;5;21;01mnn\u001b[39;00m \u001b[38;5;28;01mas\u001b[39;00m \u001b[38;5;21;01mnn\u001b[39;00m\n\u001b[0;32m      6\u001b[0m \u001b[38;5;28;01mimport\u001b[39;00m \u001b[38;5;21;01mtorch\u001b[39;00m\u001b[38;5;21;01m.\u001b[39;00m\u001b[38;5;21;01mnn\u001b[39;00m\u001b[38;5;21;01m.\u001b[39;00m\u001b[38;5;21;01mfunctional\u001b[39;00m \u001b[38;5;28;01mas\u001b[39;00m \u001b[38;5;21;01mF\u001b[39;00m\n",
      "\u001b[1;31mModuleNotFoundError\u001b[0m: No module named 'torch'"
     ]
    }
   ],
   "source": [
    "## import libraries\n",
    "from __future__ import print_function\n",
    "import argparse\n",
    "import torch\n",
    "import torch.nn as nn\n",
    "import torch.nn.functional as F\n",
    "import torchvision\n",
    "\n",
    "import torch.optim as optim\n",
    "from torchvision import datasets, transforms\n",
    "from torch.autograd import Variable"
   ]
  },
  {
   "cell_type": "code",
   "execution_count": 3,
   "metadata": {
    "id": "rXCYmmjyVRq5"
   },
   "outputs": [
    {
     "name": "stdout",
     "output_type": "stream",
     "text": [
      "2.7.1+cpu\n"
     ]
    }
   ],
   "source": [
    "print(torch.__version__)"
   ]
  },
  {
   "cell_type": "code",
   "execution_count": 4,
   "metadata": {
    "id": "Fp3VqwxU9teg"
   },
   "outputs": [],
   "source": [
    "args={}\n",
    "kwargs={}\n",
    "args['batch_size']=32\n",
    "args['test_batch_size']=32\n",
    "args['epochs']=1  #The number of Epochs is the number of times you go through the full dataset.\n",
    "args['lr']=0.01 #Learning rate is how fast it will decend.\n",
    "args['momentum']=0.5 #SGD momentum (default: 0.5) Momentum is a moving average of our gradients (helps to keep direction).\n",
    "\n",
    "args['seed']=1 #random seed\n",
    "args['log_interval']=10\n",
    "args['cuda']=False #if the computer has a GPU, type True, otherwise, False"
   ]
  },
  {
   "cell_type": "markdown",
   "metadata": {
    "id": "ys8268Yr6sAC"
   },
   "source": [
    "This code is adopted from the pytorch examples repository. It is licensed under BSD 3-Clause \"New\" or \"Revised\" License. Source: https://github.com/pytorch/examples/ LICENSE: https://github.com/pytorch/examples/blob/master/LICENSE"
   ]
  },
  {
   "cell_type": "markdown",
   "metadata": {
    "id": "hhuQyU7AYE6K"
   },
   "source": [
    "## Load Dataset\n",
    "The first step before training the model is to import the data. We will use the [MNIST dataset](http://yann.lecun.com/exdb/mnist/) which is like the Hello World dataset of machine learning.\n",
    "\n",
    "Besides importing the data, we will also do a few more things:\n",
    "- We will tranform the data into tensors using the `transforms` module\n",
    "- We will use `DataLoader` to build convenient data loaders or what are referred to as iterators, which makes it easy to efficiently feed data in batches to deep learning models.\n",
    "- As hinted above, we will also create batches of the data by setting the `batch` parameter inside the data loader. Notice we use batches of `32` in this tutorial but you can change it to `64` if you like. I encourage you to experiment with different batches."
   ]
  },
  {
   "cell_type": "code",
   "execution_count": 5,
   "metadata": {
    "id": "tSjjLXrOVWBy"
   },
   "outputs": [],
   "source": [
    "## transformations\n",
    "transform = transforms.Compose([\n",
    "                       transforms.ToTensor(),\n",
    "                       transforms.Normalize((0.1307,), (0.3081,))\n",
    "                   ])\n",
    "\n",
    "## download and load training dataset\n",
    "trainset = datasets.MNIST(root='../data', train=True, download=True, transform=transform)\n",
    "train_loader = torch.utils.data.DataLoader(trainset, batch_size=args['batch_size'], shuffle=True, **kwargs)\n",
    "\n",
    "## download and load testing dataset\n",
    "testset = torchvision.datasets.MNIST(root='./data', train=False, download=True, transform=transform)\n",
    "test_loader = torch.utils.data.DataLoader(testset, batch_size=args['test_batch_size'], shuffle=True, **kwargs)"
   ]
  },
  {
   "cell_type": "markdown",
   "metadata": {
    "id": "0nZwZukWXUDn"
   },
   "source": [
    "## Exploring the Data\n",
    "As a practioner and researcher, I am always spending a bit of time and effort exploring and understanding the dataset. It's fun and this is a good practise to ensure that everything is in order."
   ]
  },
  {
   "cell_type": "markdown",
   "metadata": {
    "id": "NW_loWKga7CH"
   },
   "source": [
    "Let's check what the train and test dataset contains. I will use `matplotlib` to print out some of the images from our dataset."
   ]
  },
  {
   "cell_type": "code",
   "execution_count": 6,
   "metadata": {
    "id": "zWd9Pt1Ca6K9"
   },
   "outputs": [],
   "source": [
    "import matplotlib.pyplot as plt\n",
    "import numpy as np\n",
    "\n",
    "## functions to show an image\n",
    "def imshow(img):\n",
    "    #img = img / 2 + 0.5     # unnormalize\n",
    "    npimg = img.numpy()\n",
    "    plt.imshow(np.transpose(npimg, (1, 2, 0)))\n",
    "\n",
    "## get some random training images\n",
    "dataiter = iter(train_loader)\n",
    "images, labels = next(dataiter)\n",
    "\n",
    "## show images\n",
    "#imshow(torchvision.utils.make_grid(images))"
   ]
  },
  {
   "cell_type": "markdown",
   "metadata": {
    "id": "d9mXAVmRvhrq"
   },
   "source": [
    "Let's check the dimensions of a batch."
   ]
  },
  {
   "cell_type": "code",
   "execution_count": 7,
   "metadata": {
    "id": "cNFKWz1GZ4R5"
   },
   "outputs": [
    {
     "name": "stdout",
     "output_type": "stream",
     "text": [
      "Image batch dimensions: torch.Size([32, 1, 28, 28])\n",
      "Image label dimensions: torch.Size([32])\n"
     ]
    }
   ],
   "source": [
    "for images, labels in train_loader:\n",
    "    print(\"Image batch dimensions:\", images.shape)\n",
    "    print(\"Image label dimensions:\", labels.shape)\n",
    "    break"
   ]
  },
  {
   "cell_type": "markdown",
   "metadata": {
    "id": "tmaCTw5tXowR"
   },
   "source": [
    "## The Model\n",
    "We provide two fully-connected neural net as the initial architecture.\n",
    "\n",
    "Here are a few notes for those who are beginning with PyTorch:\n",
    "- The model below consists of an `__init__()` portion which is where you include the layers and components of the neural network. In our model, we have two fully-connected netork network. We are dealing with an image dataset that is in a grayscale so we only need one channel going in, hence `in_channels=1`.\n",
    "\n",
    "- After the first layer, we also apply an activation function such as `ReLU`. For prediction purposes, we then apply a `softmax` layer to the last transformation and return the output of that.  "
   ]
  },
  {
   "cell_type": "code",
   "execution_count": null,
   "metadata": {
    "id": "_IYnV4ZBa3cJ"
   },
   "outputs": [],
   "source": [
    "class Net(nn.Module):\n",
    "    #This defines the structure of the NN.\n",
    "    def __init__(self):\n",
    "        super(Net, self).__init__()\n",
    "        ### CODE STARTS HERE\n",
    "        # 1 input channel, 16 output channels, 7x7. 7x7x16 = 784\n",
    "        self.conv1 = nn.Conv2d(1,16, 7)\n",
    "        # self.conv1 = nn.Conv2d(1,32, 5)\n",
    "\n",
    "        # Is the dimensions of what we got here correct? I don't think so.. Maybe we didn't get conv1 to work either\n",
    "        self.avgpool = nn.AvgPool2d(3, stride = 3)\n",
    "\n",
    "\n",
    "        ### CODE ENDS HERE\n",
    "        self.fc1 = nn.Linear(784, 256)\n",
    "        self.fc2 = nn.Linear(256, 10)\n",
    "\n",
    "    def forward(self, x):\n",
    "        x = self.avgpool(F.relu(self.conv1(x)))\n",
    "        x = torch.flatten(x,1)\n",
    "        x = F.relu(self.fc1(x))\n",
    "        x = self.fc2(x)\n",
    "\n",
    "        #Softmax gets probabilities.\n",
    "        return F.log_softmax(x, dim=1)\n"
   ]
  },
  {
   "cell_type": "markdown",
   "metadata": {
    "id": "ZqgR0prhZD3z"
   },
   "source": [
    "**Now, add one CNN layer with a pooling to the above neural network and rerun the code to see whether you get higher prediction accuracy on the test set.**\n",
    "\n",
    "For example, you may try `out_channels=32`. Kernel size is 5, and for the rest of parameters we use the default values which you can find [here](https://pytorch.org/docs/stable/nn.html?highlight=conv2d#conv2d).\n",
    "\n",
    "- In short, the convolutional layer transforms the input data into a specific dimension that has to be considered in the linear layer.\n",
    "\n",
    "Make sure your flatten the output of CNN layer excluding # of batch so that the input of each example/batch has the same size of the first neural net.\n",
    "\n",
    "Tips: You can use x.view(-1, # of input size of the first fully-connected layer) or you can use torch.flatten(x, 1)."
   ]
  },
  {
   "cell_type": "markdown",
   "metadata": {
    "id": "evsFbkq_X6bc"
   },
   "source": [
    "I always encourage to test the model with 1 batch to ensure that the output dimensions are what we expect."
   ]
  },
  {
   "cell_type": "code",
   "execution_count": null,
   "metadata": {
    "id": "tRkFvePEZCHd"
   },
   "outputs": [],
   "source": []
  },
  {
   "cell_type": "code",
   "execution_count": 9,
   "metadata": {
    "id": "1poxFYqftKov"
   },
   "outputs": [
    {
     "name": "stdout",
     "output_type": "stream",
     "text": [
      "batch size: 32\n",
      "torch.Size([32, 10])\n"
     ]
    }
   ],
   "source": [
    "## test the model with 1 batch\n",
    "model = Net()\n",
    "#print(model)\n",
    "for images, labels in train_loader:\n",
    "    print(\"batch size:\", args['batch_size'])\n",
    "    out = model(images)\n",
    "    print(out.shape)\n",
    "    break"
   ]
  },
  {
   "cell_type": "markdown",
   "metadata": {
    "id": "9h_3eZQRHV_P"
   },
   "source": [
    "## Training the Model\n",
    "Now we are ready to train the model."
   ]
  },
  {
   "cell_type": "code",
   "execution_count": 10,
   "metadata": {
    "id": "E59hwZlAIVcL"
   },
   "outputs": [],
   "source": [
    "def train(epoch):\n",
    "    model.train()\n",
    "    for batch_idx, (data, target) in enumerate(train_loader):\n",
    "        if args['cuda']:\n",
    "            data, target = data.cuda(), target.cuda()\n",
    "        #Variables in Pytorch are differenciable.\n",
    "        data, target = Variable(data), Variable(target)\n",
    "        #This will zero out the gradients for this batch.\n",
    "        optimizer.zero_grad()\n",
    "        output = model(data)\n",
    "        # Calculate the loss The negative log likelihood loss. It is useful to train a classification problem with C classes.\n",
    "        loss = F.nll_loss(output, target)\n",
    "        #dloss/dx for every Variable\n",
    "        loss.backward()\n",
    "        #to do a one-step update on our parameter.\n",
    "        optimizer.step()\n",
    "        #Print out the loss periodically.\n",
    "        if batch_idx % args['log_interval'] == 0:\n",
    "            print('Train Epoch: {} [{}/{} ({:.0f}%)]\\tLoss: {:.6f}'.format(\n",
    "                epoch, batch_idx * len(data), len(train_loader.dataset),\n",
    "                100. * batch_idx / len(train_loader), loss.data.item()))"
   ]
  },
  {
   "cell_type": "code",
   "execution_count": 11,
   "metadata": {
    "id": "dmoO9DlN_Ir6"
   },
   "outputs": [],
   "source": [
    "def test():\n",
    "    model.eval()\n",
    "    test_loss = 0\n",
    "    correct = 0\n",
    "\n",
    "    with torch.no_grad():\n",
    "      for data, target in test_loader:\n",
    "          if args['cuda']:\n",
    "              data, target = data.cuda(), target.cuda()\n",
    "          data, target = Variable(data), Variable(target)\n",
    "          output = model(data)\n",
    "          test_loss += F.nll_loss(output, target, size_average=False).data.item() # sum up batch loss\n",
    "          pred = output.data.max(1, keepdim=True)[1] # get the index of the max log-probability\n",
    "          correct += pred.eq(target.data.view_as(pred)).long().cpu().sum()\n",
    "\n",
    "    test_loss /= len(test_loader.dataset)\n",
    "    print('\\nTest set: Average loss: {:.4f}, Accuracy: {}/{} ({:.0f}%)\\n'.format(\n",
    "        test_loss, correct, len(test_loader.dataset),\n",
    "        100. * correct / len(test_loader.dataset)))"
   ]
  },
  {
   "cell_type": "code",
   "execution_count": null,
   "metadata": {
    "id": "PQcWwu_A_2gx"
   },
   "outputs": [
    {
     "name": "stdout",
     "output_type": "stream",
     "text": [
      "Train Epoch: 1 [0/60000 (0%)]\tLoss: 2.324504\n",
      "Train Epoch: 1 [320/60000 (1%)]\tLoss: 2.039420\n",
      "Train Epoch: 1 [640/60000 (1%)]\tLoss: 1.666409\n",
      "Train Epoch: 1 [960/60000 (2%)]\tLoss: 1.497338\n",
      "Train Epoch: 1 [1280/60000 (2%)]\tLoss: 1.146838\n",
      "Train Epoch: 1 [1600/60000 (3%)]\tLoss: 1.004722\n",
      "Train Epoch: 1 [1920/60000 (3%)]\tLoss: 1.021445\n",
      "Train Epoch: 1 [2240/60000 (4%)]\tLoss: 1.157524\n",
      "Train Epoch: 1 [2560/60000 (4%)]\tLoss: 0.801811\n",
      "Train Epoch: 1 [2880/60000 (5%)]\tLoss: 0.626062\n",
      "Train Epoch: 1 [3200/60000 (5%)]\tLoss: 0.493653\n",
      "Train Epoch: 1 [3520/60000 (6%)]\tLoss: 0.709231\n",
      "Train Epoch: 1 [3840/60000 (6%)]\tLoss: 0.435321\n",
      "Train Epoch: 1 [4160/60000 (7%)]\tLoss: 0.654109\n",
      "Train Epoch: 1 [4480/60000 (7%)]\tLoss: 0.386723\n",
      "Train Epoch: 1 [4800/60000 (8%)]\tLoss: 0.384755\n",
      "Train Epoch: 1 [5120/60000 (9%)]\tLoss: 0.479192\n",
      "Train Epoch: 1 [5440/60000 (9%)]\tLoss: 0.523079\n",
      "Train Epoch: 1 [5760/60000 (10%)]\tLoss: 0.391606\n",
      "Train Epoch: 1 [6080/60000 (10%)]\tLoss: 0.594961\n",
      "Train Epoch: 1 [6400/60000 (11%)]\tLoss: 0.266306\n",
      "Train Epoch: 1 [6720/60000 (11%)]\tLoss: 0.274099\n",
      "Train Epoch: 1 [7040/60000 (12%)]\tLoss: 0.432848\n",
      "Train Epoch: 1 [7360/60000 (12%)]\tLoss: 0.478082\n",
      "Train Epoch: 1 [7680/60000 (13%)]\tLoss: 0.650634\n",
      "Train Epoch: 1 [8000/60000 (13%)]\tLoss: 0.553326\n",
      "Train Epoch: 1 [8320/60000 (14%)]\tLoss: 0.349802\n",
      "Train Epoch: 1 [8640/60000 (14%)]\tLoss: 0.582882\n",
      "Train Epoch: 1 [8960/60000 (15%)]\tLoss: 0.509555\n",
      "Train Epoch: 1 [9280/60000 (15%)]\tLoss: 0.260975\n",
      "Train Epoch: 1 [9600/60000 (16%)]\tLoss: 0.768142\n",
      "Train Epoch: 1 [9920/60000 (17%)]\tLoss: 0.507023\n",
      "Train Epoch: 1 [10240/60000 (17%)]\tLoss: 0.253076\n",
      "Train Epoch: 1 [10560/60000 (18%)]\tLoss: 0.187806\n",
      "Train Epoch: 1 [10880/60000 (18%)]\tLoss: 0.536501\n",
      "Train Epoch: 1 [11200/60000 (19%)]\tLoss: 0.582366\n",
      "Train Epoch: 1 [11520/60000 (19%)]\tLoss: 0.752754\n",
      "Train Epoch: 1 [11840/60000 (20%)]\tLoss: 0.365007\n",
      "Train Epoch: 1 [12160/60000 (20%)]\tLoss: 0.326359\n",
      "Train Epoch: 1 [12480/60000 (21%)]\tLoss: 0.264454\n",
      "Train Epoch: 1 [12800/60000 (21%)]\tLoss: 0.287616\n",
      "Train Epoch: 1 [13120/60000 (22%)]\tLoss: 0.719775\n",
      "Train Epoch: 1 [13440/60000 (22%)]\tLoss: 0.329969\n",
      "Train Epoch: 1 [13760/60000 (23%)]\tLoss: 0.353037\n",
      "Train Epoch: 1 [14080/60000 (23%)]\tLoss: 0.377176\n",
      "Train Epoch: 1 [14400/60000 (24%)]\tLoss: 0.231822\n",
      "Train Epoch: 1 [14720/60000 (25%)]\tLoss: 0.677124\n",
      "Train Epoch: 1 [15040/60000 (25%)]\tLoss: 0.129037\n",
      "Train Epoch: 1 [15360/60000 (26%)]\tLoss: 0.256176\n",
      "Train Epoch: 1 [15680/60000 (26%)]\tLoss: 0.244593\n",
      "Train Epoch: 1 [16000/60000 (27%)]\tLoss: 0.470775\n",
      "Train Epoch: 1 [16320/60000 (27%)]\tLoss: 0.543710\n",
      "Train Epoch: 1 [16640/60000 (28%)]\tLoss: 0.260100\n",
      "Train Epoch: 1 [16960/60000 (28%)]\tLoss: 0.183255\n"
     ]
    }
   ],
   "source": [
    "model = Net()\n",
    "if args['cuda']:\n",
    "    model.cuda()\n",
    "\n",
    "optimizer = optim.SGD(model.parameters(), lr=args['lr'], momentum=args['momentum'])\n",
    "\n",
    "for epoch in range(1, args['epochs'] + 1):\n",
    "    train(epoch)\n",
    "    test()"
   ]
  },
  {
   "cell_type": "code",
   "execution_count": null,
   "metadata": {
    "id": "9m3--4A-nDL-"
   },
   "outputs": [],
   "source": []
  }
 ],
 "metadata": {
  "accelerator": "GPU",
  "colab": {
   "gpuType": "T4",
   "provenance": []
  },
  "kernelspec": {
   "display_name": "Python 3",
   "language": "python",
   "name": "python3"
  },
  "language_info": {
   "codemirror_mode": {
    "name": "ipython",
    "version": 3
   },
   "file_extension": ".py",
   "mimetype": "text/x-python",
   "name": "python",
   "nbconvert_exporter": "python",
   "pygments_lexer": "ipython3",
   "version": "3.12.3"
  }
 },
 "nbformat": 4,
 "nbformat_minor": 4
}
